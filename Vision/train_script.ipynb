{
 "cells": [
  {
   "cell_type": "code",
   "execution_count": 107,
   "metadata": {},
   "outputs": [
    {
     "data": {
      "text/plain": [
       "'1.13.1'"
      ]
     },
     "execution_count": 107,
     "metadata": {},
     "output_type": "execute_result"
    }
   ],
   "source": [
    "import tensorflow as tf\n",
    "import matplotlib.pyplot as plt\n",
    "import pickle\n",
    "import numpy as np\n",
    "import random\n",
    "import sklearn\n",
    "tf.__version__"
   ]
  },
  {
   "cell_type": "code",
   "execution_count": 108,
   "metadata": {},
   "outputs": [],
   "source": [
    "with open('Datasets/train_label.pkl', 'rb') as f:\n",
    "    labels = pickle.load(f)\n",
    "    \n",
    "with open('Datasets/train_image.pkl', 'rb') as f:\n",
    "    x_train = pickle.load(f)\n",
    "    \n",
    "with open('Datasets/test_image.pkl', 'rb') as f:\n",
    "    x_test = pickle.load(f)\n"
   ]
  },
  {
   "cell_type": "code",
   "execution_count": 109,
   "metadata": {},
   "outputs": [],
   "source": [
    "x_train = np.array(x_train)\n",
    "x_test = np.array(x_test)\n",
    "\n",
    "data = []\n",
    "for i in x_train:\n",
    "    data.append(i.reshape(28,28))\n",
    "x_train = data\n",
    "\n",
    "data = []\n",
    "for i in x_test:\n",
    "    data.append(i.reshape(28,28))\n",
    "x_test = data"
   ]
  },
  {
   "cell_type": "code",
   "execution_count": 110,
   "metadata": {},
   "outputs": [],
   "source": [
    "# Normalizing data. Mappind data from 0 to 1\n",
    "x_train = tf.keras.utils.normalize(x_train,axis = 1 )\n",
    "x_test = tf.keras.utils.normalize(x_test,axis = 1 )"
   ]
  },
  {
   "cell_type": "code",
   "execution_count": 111,
   "metadata": {},
   "outputs": [],
   "source": [
    "label_class_map = {\n",
    "    0: 0,\n",
    "    2: 1,\n",
    "    3: 2,\n",
    "    6: 3\n",
    "}\n",
    "\n",
    "for i in range(len(labels)):\n",
    "    labels[i] = label_class_map[labels[i]]\n",
    "    \n",
    "y_train = np.array(labels)\n"
   ]
  },
  {
   "cell_type": "code",
   "execution_count": 112,
   "metadata": {},
   "outputs": [],
   "source": [
    "x_train, y_train = sklearn.utils.shuffle(x_train, y_train)"
   ]
  },
  {
   "cell_type": "code",
   "execution_count": 134,
   "metadata": {},
   "outputs": [
    {
     "name": "stdout",
     "output_type": "stream",
     "text": [
      "Train on 7200 samples, validate on 800 samples\n",
      "Epoch 1/20\n",
      "7200/7200 [==============================] - 1s 163us/sample - loss: 0.6390 - acc: 0.7418 - val_loss: 0.5500 - val_acc: 0.7700\n",
      "Epoch 2/20\n",
      "7200/7200 [==============================] - 1s 107us/sample - loss: 0.4890 - acc: 0.8050 - val_loss: 0.4672 - val_acc: 0.8100\n",
      "Epoch 3/20\n",
      "7200/7200 [==============================] - 1s 105us/sample - loss: 0.4305 - acc: 0.8278 - val_loss: 0.4679 - val_acc: 0.8163\n",
      "Epoch 4/20\n",
      "7200/7200 [==============================] - 1s 108us/sample - loss: 0.3926 - acc: 0.8413 - val_loss: 0.4317 - val_acc: 0.8350\n",
      "Epoch 5/20\n",
      "7200/7200 [==============================] - 1s 110us/sample - loss: 0.3769 - acc: 0.8467 - val_loss: 0.4095 - val_acc: 0.8450\n",
      "Epoch 6/20\n",
      "7200/7200 [==============================] - 1s 109us/sample - loss: 0.3543 - acc: 0.8567 - val_loss: 0.4310 - val_acc: 0.8400\n",
      "Epoch 7/20\n",
      "7200/7200 [==============================] - 1s 108us/sample - loss: 0.3324 - acc: 0.8643 - val_loss: 0.3944 - val_acc: 0.8450\n",
      "Epoch 8/20\n",
      "7200/7200 [==============================] - 1s 108us/sample - loss: 0.3211 - acc: 0.8725 - val_loss: 0.4119 - val_acc: 0.8438\n",
      "Epoch 9/20\n",
      "7200/7200 [==============================] - 1s 110us/sample - loss: 0.2947 - acc: 0.8821 - val_loss: 0.3950 - val_acc: 0.8462\n",
      "Epoch 10/20\n",
      "7200/7200 [==============================] - 1s 111us/sample - loss: 0.2867 - acc: 0.8861 - val_loss: 0.4153 - val_acc: 0.8462\n",
      "Epoch 11/20\n",
      "7200/7200 [==============================] - 1s 132us/sample - loss: 0.2670 - acc: 0.8924 - val_loss: 0.4264 - val_acc: 0.8512\n",
      "Epoch 12/20\n",
      "7200/7200 [==============================] - 1s 110us/sample - loss: 0.2502 - acc: 0.8986 - val_loss: 0.4529 - val_acc: 0.8450\n",
      "Epoch 13/20\n",
      "7200/7200 [==============================] - 1s 111us/sample - loss: 0.2481 - acc: 0.9007 - val_loss: 0.4135 - val_acc: 0.8500\n",
      "Epoch 14/20\n",
      "7200/7200 [==============================] - 1s 110us/sample - loss: 0.2303 - acc: 0.9114 - val_loss: 0.4975 - val_acc: 0.8150\n",
      "Epoch 15/20\n",
      "7200/7200 [==============================] - 1s 113us/sample - loss: 0.2257 - acc: 0.9093 - val_loss: 0.4430 - val_acc: 0.8500\n",
      "Epoch 16/20\n",
      "7200/7200 [==============================] - 1s 111us/sample - loss: 0.2126 - acc: 0.9151 - val_loss: 0.4729 - val_acc: 0.8400\n",
      "Epoch 17/20\n",
      "7200/7200 [==============================] - 1s 113us/sample - loss: 0.1909 - acc: 0.9279 - val_loss: 0.4323 - val_acc: 0.8550\n",
      "Epoch 18/20\n",
      "7200/7200 [==============================] - 1s 146us/sample - loss: 0.1885 - acc: 0.9240 - val_loss: 0.4845 - val_acc: 0.8338\n",
      "Epoch 19/20\n",
      "7200/7200 [==============================] - 1s 118us/sample - loss: 0.1726 - acc: 0.9311 - val_loss: 0.4870 - val_acc: 0.8562\n",
      "Epoch 20/20\n",
      "7200/7200 [==============================] - 1s 115us/sample - loss: 0.1676 - acc: 0.9354 - val_loss: 0.4598 - val_acc: 0.8587\n"
     ]
    },
    {
     "data": {
      "text/plain": [
       "<tensorflow.python.keras.callbacks.History at 0x7f34d734dc18>"
      ]
     },
     "execution_count": 134,
     "metadata": {},
     "output_type": "execute_result"
    }
   ],
   "source": [
    "model = tf.keras.models.Sequential()\n",
    "\n",
    "#input layer\n",
    "model.add(tf.keras.layers.Flatten())\n",
    "model.add(tf.keras.layers.Dense(128, activation=tf.nn.relu))\n",
    "model.add(tf.keras.layers.Dense(128, activation=tf.nn.relu))\n",
    "\n",
    "#Output Layer: Number of neurons = number of classes.\n",
    "model.add(tf.keras.layers.Dense(4, activation=tf.nn.softmax))\n",
    "\n",
    "model.compile(optimizer='adam',\n",
    "             loss='sparse_categorical_crossentropy',\n",
    "              metrics = (['accuracy'])\n",
    "             )\n",
    "model.fit(x_train, y_train, epochs=20, shuffle = True, validation_split= 0.1)\n"
   ]
  },
  {
   "cell_type": "code",
   "execution_count": 94,
   "metadata": {},
   "outputs": [
    {
     "name": "stdout",
     "output_type": "stream",
     "text": [
      "WARNING:tensorflow:Sequential models without an `input_shape` passed to the first layer cannot reload their optimizer state. As a result, your model isstarting with a freshly initialized optimizer.\n"
     ]
    }
   ],
   "source": [
    "new_model = tf.keras.models.load_model('midas.model')\n",
    "predictions = new_model.predict(x_train)\n"
   ]
  },
  {
   "cell_type": "code",
   "execution_count": 106,
   "metadata": {},
   "outputs": [
    {
     "data": {
      "text/plain": [
       "array([3.2233975e-06, 1.9180378e-11, 2.2792206e-06, 9.9999452e-01],\n",
       "      dtype=float32)"
      ]
     },
     "execution_count": 106,
     "metadata": {},
     "output_type": "execute_result"
    }
   ],
   "source": [
    "predictions[6607]"
   ]
  },
  {
   "cell_type": "code",
   "execution_count": null,
   "metadata": {},
   "outputs": [],
   "source": []
  }
 ],
 "metadata": {
  "kernelspec": {
   "display_name": "MIDAS",
   "language": "python",
   "name": "midas"
  },
  "language_info": {
   "codemirror_mode": {
    "name": "ipython",
    "version": 3
   },
   "file_extension": ".py",
   "mimetype": "text/x-python",
   "name": "python",
   "nbconvert_exporter": "python",
   "pygments_lexer": "ipython3",
   "version": "3.5.2"
  }
 },
 "nbformat": 4,
 "nbformat_minor": 2
}
