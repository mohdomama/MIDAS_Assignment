{
 "cells": [
  {
   "cell_type": "code",
   "execution_count": 139,
   "metadata": {},
   "outputs": [
    {
     "data": {
      "text/plain": [
       "'1.13.1'"
      ]
     },
     "execution_count": 139,
     "metadata": {},
     "output_type": "execute_result"
    }
   ],
   "source": [
    "import tensorflow as tf\n",
    "from tensorflow.keras.layers import *\n",
    "import matplotlib.pyplot as plt\n",
    "import pickle\n",
    "import numpy as np\n",
    "import random\n",
    "import sklearn\n",
    "tf.__version__"
   ]
  },
  {
   "cell_type": "code",
   "execution_count": 140,
   "metadata": {},
   "outputs": [],
   "source": [
    "with open('Datasets/train_label.pkl', 'rb') as f:\n",
    "    labels = pickle.load(f)\n",
    "    \n",
    "with open('Datasets/train_image.pkl', 'rb') as f:\n",
    "    x_train = pickle.load(f)\n",
    "    \n",
    "with open('Datasets/test_image.pkl', 'rb') as f:\n",
    "    x_test = pickle.load(f)\n"
   ]
  },
  {
   "cell_type": "code",
   "execution_count": 141,
   "metadata": {},
   "outputs": [],
   "source": [
    "x_train = np.array(x_train)\n",
    "x_test = np.array(x_test)\n",
    "\n",
    "data = []\n",
    "for i in x_train:\n",
    "    data.append(i.reshape(28,28))\n",
    "x_train = data\n",
    "\n",
    "data = []\n",
    "for i in x_test:\n",
    "    data.append(i.reshape(28,28))\n",
    "x_test = data"
   ]
  },
  {
   "cell_type": "code",
   "execution_count": 142,
   "metadata": {},
   "outputs": [],
   "source": [
    "# Normalizing data. Mappind data from 0 to 1\n",
    "x_train = tf.keras.utils.normalize(x_train,axis = 1 )\n",
    "x_test = tf.keras.utils.normalize(x_test,axis = 1 )"
   ]
  },
  {
   "cell_type": "code",
   "execution_count": 143,
   "metadata": {},
   "outputs": [],
   "source": [
    "label_class_map = {\n",
    "    0: 0,\n",
    "    2: 1,\n",
    "    3: 2,\n",
    "    6: 3\n",
    "}\n",
    "\n",
    "for i in range(len(labels)):\n",
    "    labels[i] = label_class_map[labels[i]]\n",
    "    \n",
    "y_train = np.array(labels)\n"
   ]
  },
  {
   "cell_type": "code",
   "execution_count": 148,
   "metadata": {},
   "outputs": [
    {
     "data": {
      "text/plain": [
       "(28, 28, 1)"
      ]
     },
     "execution_count": 148,
     "metadata": {},
     "output_type": "execute_result"
    }
   ],
   "source": [
    "x_train, y_train = sklearn.utils.shuffle(x_train, y_train)\n",
    "x_train = np.array(x_train).reshape(-1, 28, 28, 1)"
   ]
  },
  {
   "cell_type": "code",
   "execution_count": null,
   "metadata": {},
   "outputs": [
    {
     "name": "stdout",
     "output_type": "stream",
     "text": [
      "Train on 7200 samples, validate on 800 samples\n",
      "Epoch 1/20\n",
      "7200/7200 [==============================] - 18s 2ms/sample - loss: 0.6684 - acc: 0.7235 - val_loss: 0.5447 - val_acc: 0.7837\n",
      "Epoch 2/20\n",
      "7200/7200 [==============================] - 18s 2ms/sample - loss: 0.4515 - acc: 0.8160 - val_loss: 0.4577 - val_acc: 0.8150\n",
      "Epoch 3/20\n",
      "7200/7200 [==============================] - 17s 2ms/sample - loss: 0.4026 - acc: 0.8393 - val_loss: 0.4814 - val_acc: 0.8050\n",
      "Epoch 4/20\n",
      "7200/7200 [==============================] - 17s 2ms/sample - loss: 0.3620 - acc: 0.8554 - val_loss: 0.4183 - val_acc: 0.8350\n",
      "Epoch 5/20\n",
      "7200/7200 [==============================] - 17s 2ms/sample - loss: 0.3330 - acc: 0.8679 - val_loss: 0.4089 - val_acc: 0.8300\n",
      "Epoch 6/20\n",
      "7200/7200 [==============================] - 18s 3ms/sample - loss: 0.3011 - acc: 0.8803 - val_loss: 0.3954 - val_acc: 0.8512\n",
      "Epoch 7/20\n",
      "7200/7200 [==============================] - 18s 2ms/sample - loss: 0.2863 - acc: 0.8903 - val_loss: 0.3951 - val_acc: 0.8475\n",
      "Epoch 8/20\n",
      "7200/7200 [==============================] - 18s 2ms/sample - loss: 0.2637 - acc: 0.8964 - val_loss: 0.3920 - val_acc: 0.8575\n",
      "Epoch 9/20\n",
      "7200/7200 [==============================] - 18s 2ms/sample - loss: 0.2317 - acc: 0.9089 - val_loss: 0.4034 - val_acc: 0.8475\n",
      "Epoch 10/20\n",
      "7200/7200 [==============================] - 18s 2ms/sample - loss: 0.2168 - acc: 0.9156 - val_loss: 0.4175 - val_acc: 0.8512\n",
      "Epoch 11/20\n",
      "7200/7200 [==============================] - 18s 2ms/sample - loss: 0.1986 - acc: 0.9206 - val_loss: 0.4161 - val_acc: 0.8462\n",
      "Epoch 12/20\n",
      "7200/7200 [==============================] - 18s 2ms/sample - loss: 0.1690 - acc: 0.9353 - val_loss: 0.4149 - val_acc: 0.8612\n",
      "Epoch 13/20\n",
      "7200/7200 [==============================] - 18s 2ms/sample - loss: 0.1528 - acc: 0.9397 - val_loss: 0.4116 - val_acc: 0.8650\n",
      "Epoch 14/20\n",
      "7200/7200 [==============================] - 18s 3ms/sample - loss: 0.1276 - acc: 0.9540 - val_loss: 0.4830 - val_acc: 0.8512\n",
      "Epoch 15/20\n",
      "7200/7200 [==============================] - 18s 3ms/sample - loss: 0.1090 - acc: 0.9589 - val_loss: 0.4756 - val_acc: 0.8675\n",
      "Epoch 16/20\n",
      "7200/7200 [==============================] - 18s 3ms/sample - loss: 0.1013 - acc: 0.9611 - val_loss: 0.5527 - val_acc: 0.8475\n",
      "Epoch 17/20\n",
      "7200/7200 [==============================] - 18s 3ms/sample - loss: 0.0888 - acc: 0.9665 - val_loss: 0.5889 - val_acc: 0.8500\n",
      "Epoch 18/20\n",
      "7200/7200 [==============================] - 19s 3ms/sample - loss: 0.0693 - acc: 0.9769 - val_loss: 0.5386 - val_acc: 0.8438\n",
      "Epoch 19/20\n",
      "3776/7200 [==============>...............] - ETA: 8s - loss: 0.0483 - acc: 0.9838"
     ]
    }
   ],
   "source": [
    "model = tf.keras.models.Sequential()\n",
    "\n",
    "#input layer\n",
    "model.add(Conv2D(32, (4, 4),activation=\"relu\", padding=\"same\"))\n",
    "model.add(Conv2D(64, (2, 2), activation=\"relu\", padding=\"same\"))\n",
    "model.add(MaxPooling2D(pool_size=(2, 2)))\n",
    "model.add(Conv2D(128, (1, 1), activation=\"relu\", padding=\"same\"))\n",
    "model.add(MaxPooling2D(pool_size=(2, 2)))\n",
    "\n",
    "\n",
    "\n",
    "model.add(Flatten())\n",
    "\n",
    "model.add(Dense(64))\n",
    "model.add(Activation('relu'))\n",
    "\n",
    "#Output Layer: Number of neurons = number of classes.\n",
    "model.add(Dense(4))\n",
    "model.add(Activation('softmax'))\n",
    "\n",
    "model.compile(optimizer='adam',\n",
    "             loss='sparse_categorical_crossentropy',\n",
    "              metrics = (['accuracy'])\n",
    "             )\n",
    "model.fit(x_train, y_train, epochs=20, shuffle = True, validation_split= 0.1)\n"
   ]
  },
  {
   "cell_type": "code",
   "execution_count": 94,
   "metadata": {},
   "outputs": [
    {
     "name": "stdout",
     "output_type": "stream",
     "text": [
      "WARNING:tensorflow:Sequential models without an `input_shape` passed to the first layer cannot reload their optimizer state. As a result, your model isstarting with a freshly initialized optimizer.\n"
     ]
    }
   ],
   "source": [
    "new_model = tf.keras.models.load_model('midas.model')\n",
    "predictions = new_model.predict(x_train)\n"
   ]
  },
  {
   "cell_type": "code",
   "execution_count": 106,
   "metadata": {},
   "outputs": [
    {
     "data": {
      "text/plain": [
       "array([3.2233975e-06, 1.9180378e-11, 2.2792206e-06, 9.9999452e-01],\n",
       "      dtype=float32)"
      ]
     },
     "execution_count": 106,
     "metadata": {},
     "output_type": "execute_result"
    }
   ],
   "source": [
    "predictions[6607]"
   ]
  },
  {
   "cell_type": "code",
   "execution_count": null,
   "metadata": {},
   "outputs": [],
   "source": []
  }
 ],
 "metadata": {
  "kernelspec": {
   "display_name": "MIDAS",
   "language": "python",
   "name": "midas"
  },
  "language_info": {
   "codemirror_mode": {
    "name": "ipython",
    "version": 3
   },
   "file_extension": ".py",
   "mimetype": "text/x-python",
   "name": "python",
   "nbconvert_exporter": "python",
   "pygments_lexer": "ipython3",
   "version": "3.5.2"
  }
 },
 "nbformat": 4,
 "nbformat_minor": 2
}
