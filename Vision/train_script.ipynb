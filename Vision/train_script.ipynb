{
 "cells": [
  {
   "cell_type": "code",
   "execution_count": 135,
   "metadata": {},
   "outputs": [
    {
     "data": {
      "text/plain": [
       "'1.13.1'"
      ]
     },
     "execution_count": 135,
     "metadata": {},
     "output_type": "execute_result"
    }
   ],
   "source": [
    "import tensorflow as tf\n",
    "from tensorflow.keras.layers import *\n",
    "import matplotlib.pyplot as plt\n",
    "import pickle\n",
    "import numpy as np\n",
    "import random\n",
    "import sklearn\n",
    "tf.__version__"
   ]
  },
  {
   "cell_type": "code",
   "execution_count": 108,
   "metadata": {},
   "outputs": [],
   "source": [
    "with open('Datasets/train_label.pkl', 'rb') as f:\n",
    "    labels = pickle.load(f)\n",
    "    \n",
    "with open('Datasets/train_image.pkl', 'rb') as f:\n",
    "    x_train = pickle.load(f)\n",
    "    \n",
    "with open('Datasets/test_image.pkl', 'rb') as f:\n",
    "    x_test = pickle.load(f)\n"
   ]
  },
  {
   "cell_type": "code",
   "execution_count": 109,
   "metadata": {},
   "outputs": [],
   "source": [
    "x_train = np.array(x_train)\n",
    "x_test = np.array(x_test)\n",
    "\n",
    "data = []\n",
    "for i in x_train:\n",
    "    data.append(i.reshape(28,28))\n",
    "x_train = data\n",
    "\n",
    "data = []\n",
    "for i in x_test:\n",
    "    data.append(i.reshape(28,28))\n",
    "x_test = data"
   ]
  },
  {
   "cell_type": "code",
   "execution_count": 110,
   "metadata": {},
   "outputs": [],
   "source": [
    "# Normalizing data. Mappind data from 0 to 1\n",
    "x_train = tf.keras.utils.normalize(x_train,axis = 1 )\n",
    "x_test = tf.keras.utils.normalize(x_test,axis = 1 )"
   ]
  },
  {
   "cell_type": "code",
   "execution_count": 111,
   "metadata": {},
   "outputs": [],
   "source": [
    "label_class_map = {\n",
    "    0: 0,\n",
    "    2: 1,\n",
    "    3: 2,\n",
    "    6: 3\n",
    "}\n",
    "\n",
    "for i in range(len(labels)):\n",
    "    labels[i] = label_class_map[labels[i]]\n",
    "    \n",
    "y_train = np.array(labels)\n"
   ]
  },
  {
   "cell_type": "code",
   "execution_count": 112,
   "metadata": {},
   "outputs": [],
   "source": [
    "x_train, y_train = sklearn.utils.shuffle(x_train, y_train)"
   ]
  },
  {
   "cell_type": "code",
   "execution_count": null,
   "metadata": {},
   "outputs": [
    {
     "name": "stdout",
     "output_type": "stream",
     "text": [
      "Train on 7200 samples, validate on 800 samples\n",
      "Epoch 1/20\n",
      "7200/7200 [==============================] - 1s 166us/sample - loss: 0.6240 - acc: 0.7451 - val_loss: 0.5347 - val_acc: 0.7925\n",
      "Epoch 2/20\n",
      "7200/7200 [==============================] - 1s 107us/sample - loss: 0.4749 - acc: 0.8094 - val_loss: 0.4802 - val_acc: 0.8075\n",
      "Epoch 3/20\n",
      "7200/7200 [==============================] - 1s 107us/sample - loss: 0.4246 - acc: 0.8272 - val_loss: 0.4317 - val_acc: 0.8338\n",
      "Epoch 4/20\n",
      "7200/7200 [==============================] - 1s 109us/sample - loss: 0.3939 - acc: 0.8439 - val_loss: 0.4280 - val_acc: 0.8438\n",
      "Epoch 5/20\n",
      "3456/7200 [=============>................] - ETA: 0s - loss: 0.3605 - acc: 0.8504"
     ]
    }
   ],
   "source": [
    "model = tf.keras.models.Sequential()\n",
    "\n",
    "#input layer\n",
    "model.add(Flatten())\n",
    "model.add(Dense(128))\n",
    "model.add(Activation('relu'))\n",
    "model.add(Dense(128))\n",
    "model.add(Activation('relu'))\n",
    "#Output Layer: Number of neurons = number of classes.\n",
    "model.add(Dense(4))\n",
    "model.add(Activation('softmax'))\n",
    "\n",
    "model.compile(optimizer='adam',\n",
    "             loss='sparse_categorical_crossentropy',\n",
    "              metrics = (['accuracy'])\n",
    "             )\n",
    "model.fit(x_train, y_train, epochs=20, shuffle = True, validation_split= 0.1)\n"
   ]
  },
  {
   "cell_type": "code",
   "execution_count": 94,
   "metadata": {},
   "outputs": [
    {
     "name": "stdout",
     "output_type": "stream",
     "text": [
      "WARNING:tensorflow:Sequential models without an `input_shape` passed to the first layer cannot reload their optimizer state. As a result, your model isstarting with a freshly initialized optimizer.\n"
     ]
    }
   ],
   "source": [
    "new_model = tf.keras.models.load_model('midas.model')\n",
    "predictions = new_model.predict(x_train)\n"
   ]
  },
  {
   "cell_type": "code",
   "execution_count": 106,
   "metadata": {},
   "outputs": [
    {
     "data": {
      "text/plain": [
       "array([3.2233975e-06, 1.9180378e-11, 2.2792206e-06, 9.9999452e-01],\n",
       "      dtype=float32)"
      ]
     },
     "execution_count": 106,
     "metadata": {},
     "output_type": "execute_result"
    }
   ],
   "source": [
    "predictions[6607]"
   ]
  },
  {
   "cell_type": "code",
   "execution_count": null,
   "metadata": {},
   "outputs": [],
   "source": []
  }
 ],
 "metadata": {
  "kernelspec": {
   "display_name": "MIDAS",
   "language": "python",
   "name": "midas"
  },
  "language_info": {
   "codemirror_mode": {
    "name": "ipython",
    "version": 3
   },
   "file_extension": ".py",
   "mimetype": "text/x-python",
   "name": "python",
   "nbconvert_exporter": "python",
   "pygments_lexer": "ipython3",
   "version": "3.5.2"
  }
 },
 "nbformat": 4,
 "nbformat_minor": 2
}
