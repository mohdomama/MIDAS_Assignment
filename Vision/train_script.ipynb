{
 "cells": [
  {
   "cell_type": "code",
   "execution_count": 139,
   "metadata": {},
   "outputs": [
    {
     "data": {
      "text/plain": [
       "'1.13.1'"
      ]
     },
     "execution_count": 139,
     "metadata": {},
     "output_type": "execute_result"
    }
   ],
   "source": [
    "import tensorflow as tf\n",
    "from tensorflow.keras.layers import *\n",
    "import matplotlib.pyplot as plt\n",
    "import pickle\n",
    "import numpy as np\n",
    "import random\n",
    "import sklearn\n",
    "tf.__version__"
   ]
  },
  {
   "cell_type": "code",
   "execution_count": 140,
   "metadata": {},
   "outputs": [],
   "source": [
    "with open('Datasets/train_label.pkl', 'rb') as f:\n",
    "    labels = pickle.load(f)\n",
    "    \n",
    "with open('Datasets/train_image.pkl', 'rb') as f:\n",
    "    x_train = pickle.load(f)\n",
    "    \n",
    "with open('Datasets/test_image.pkl', 'rb') as f:\n",
    "    x_test = pickle.load(f)\n"
   ]
  },
  {
   "cell_type": "code",
   "execution_count": 141,
   "metadata": {},
   "outputs": [],
   "source": [
    "x_train = np.array(x_train)\n",
    "x_test = np.array(x_test)\n",
    "\n",
    "data = []\n",
    "for i in x_train:\n",
    "    data.append(i.reshape(28,28))\n",
    "x_train = data\n",
    "\n",
    "data = []\n",
    "for i in x_test:\n",
    "    data.append(i.reshape(28,28))\n",
    "x_test = data"
   ]
  },
  {
   "cell_type": "code",
   "execution_count": 142,
   "metadata": {},
   "outputs": [],
   "source": [
    "# Normalizing data. Mappind data from 0 to 1\n",
    "x_train = tf.keras.utils.normalize(x_train,axis = 1 )\n",
    "x_test = tf.keras.utils.normalize(x_test,axis = 1 )"
   ]
  },
  {
   "cell_type": "code",
   "execution_count": 143,
   "metadata": {},
   "outputs": [],
   "source": [
    "label_class_map = {\n",
    "    0: 0,\n",
    "    2: 1,\n",
    "    3: 2,\n",
    "    6: 3\n",
    "}\n",
    "\n",
    "for i in range(len(labels)):\n",
    "    labels[i] = label_class_map[labels[i]]\n",
    "    \n",
    "y_train = np.array(labels)\n"
   ]
  },
  {
   "cell_type": "code",
   "execution_count": 148,
   "metadata": {},
   "outputs": [
    {
     "data": {
      "text/plain": [
       "(28, 28, 1)"
      ]
     },
     "execution_count": 148,
     "metadata": {},
     "output_type": "execute_result"
    }
   ],
   "source": [
    "x_train, y_train = sklearn.utils.shuffle(x_train, y_train)\n",
    "x_train = np.array(x_train).reshape(-1, 28, 28, 1)"
   ]
  },
  {
   "cell_type": "code",
   "execution_count": 154,
   "metadata": {},
   "outputs": [
    {
     "name": "stdout",
     "output_type": "stream",
     "text": [
      "Train on 7200 samples, validate on 800 samples\n",
      "Epoch 1/20\n",
      "7200/7200 [==============================] - 7s 945us/sample - loss: 0.6425 - acc: 0.7396 - val_loss: 0.5405 - val_acc: 0.7962\n",
      "Epoch 2/20\n",
      "7200/7200 [==============================] - 6s 878us/sample - loss: 0.4343 - acc: 0.8292 - val_loss: 0.4385 - val_acc: 0.8338\n",
      "Epoch 3/20\n",
      "7200/7200 [==============================] - 6s 876us/sample - loss: 0.3797 - acc: 0.8515 - val_loss: 0.4108 - val_acc: 0.8512\n",
      "Epoch 4/20\n",
      "7200/7200 [==============================] - 6s 887us/sample - loss: 0.3486 - acc: 0.8636 - val_loss: 0.4025 - val_acc: 0.8425\n",
      "Epoch 5/20\n",
      "7200/7200 [==============================] - 7s 927us/sample - loss: 0.3133 - acc: 0.8754 - val_loss: 0.3850 - val_acc: 0.8662\n",
      "Epoch 6/20\n",
      "7200/7200 [==============================] - 6s 892us/sample - loss: 0.2864 - acc: 0.8883 - val_loss: 0.4156 - val_acc: 0.8462\n",
      "Epoch 7/20\n",
      "7200/7200 [==============================] - 6s 887us/sample - loss: 0.2639 - acc: 0.8915 - val_loss: 0.3839 - val_acc: 0.8450\n",
      "Epoch 8/20\n",
      "7200/7200 [==============================] - 6s 893us/sample - loss: 0.2386 - acc: 0.9056 - val_loss: 0.3725 - val_acc: 0.8662\n",
      "Epoch 9/20\n",
      "7200/7200 [==============================] - 6s 901us/sample - loss: 0.2225 - acc: 0.9137 - val_loss: 0.3816 - val_acc: 0.8650\n",
      "Epoch 10/20\n",
      "7200/7200 [==============================] - 7s 914us/sample - loss: 0.1979 - acc: 0.9225 - val_loss: 0.3700 - val_acc: 0.8763\n",
      "Epoch 11/20\n",
      "7200/7200 [==============================] - 6s 895us/sample - loss: 0.1849 - acc: 0.9281 - val_loss: 0.3910 - val_acc: 0.8575\n",
      "Epoch 12/20\n",
      "7200/7200 [==============================] - 6s 900us/sample - loss: 0.1613 - acc: 0.9374 - val_loss: 0.4258 - val_acc: 0.8475\n",
      "Epoch 13/20\n",
      "7200/7200 [==============================] - 7s 953us/sample - loss: 0.1408 - acc: 0.9464 - val_loss: 0.3895 - val_acc: 0.8662\n",
      "Epoch 14/20\n",
      "7200/7200 [==============================] - 7s 918us/sample - loss: 0.1247 - acc: 0.9543 - val_loss: 0.4225 - val_acc: 0.8625\n",
      "Epoch 15/20\n",
      "7200/7200 [==============================] - 7s 922us/sample - loss: 0.1048 - acc: 0.9603 - val_loss: 0.4611 - val_acc: 0.8637\n",
      "Epoch 16/20\n",
      "7200/7200 [==============================] - 7s 935us/sample - loss: 0.1024 - acc: 0.9614 - val_loss: 0.4764 - val_acc: 0.8550\n",
      "Epoch 17/20\n",
      "7200/7200 [==============================] - 7s 946us/sample - loss: 0.0832 - acc: 0.9685 - val_loss: 0.4486 - val_acc: 0.8662\n",
      "Epoch 18/20\n",
      "7200/7200 [==============================] - 7s 937us/sample - loss: 0.0713 - acc: 0.9757 - val_loss: 0.5123 - val_acc: 0.8662\n",
      "Epoch 19/20\n",
      "7200/7200 [==============================] - 7s 933us/sample - loss: 0.0691 - acc: 0.9751 - val_loss: 0.5112 - val_acc: 0.8600\n",
      "Epoch 20/20\n",
      "7200/7200 [==============================] - 7s 940us/sample - loss: 0.0556 - acc: 0.9804 - val_loss: 0.5316 - val_acc: 0.8612\n"
     ]
    },
    {
     "data": {
      "text/plain": [
       "<tensorflow.python.keras.callbacks.History at 0x7f34d3b3e438>"
      ]
     },
     "execution_count": 154,
     "metadata": {},
     "output_type": "execute_result"
    }
   ],
   "source": [
    "model = tf.keras.models.Sequential()\n",
    "\n",
    "model.add(Conv2D(32, (3, 3),activation=\"relu\", padding=\"same\"))\n",
    "model.add(MaxPooling2D(pool_size=(2, 2)))\n",
    "model.add(Conv2D(64, (2, 2), activation=\"relu\", padding=\"same\"))\n",
    "model.add(MaxPooling2D(pool_size=(2, 2)))\n",
    "\n",
    "model.add(Flatten())\n",
    "\n",
    "model.add(Dense(128))\n",
    "model.add(Activation('relu'))\n",
    "\n",
    "#Output Layer: Number of neurons = number of classes.\n",
    "model.add(Dense(4))\n",
    "model.add(Activation('softmax'))\n",
    "\n",
    "model.compile(optimizer='adam',\n",
    "             loss='sparse_categorical_crossentropy',\n",
    "              metrics = (['accuracy'])\n",
    "             )\n",
    "model.fit(x_train, y_train, epochs=20, shuffle = True, validation_split= 0.1)\n"
   ]
  },
  {
   "cell_type": "code",
   "execution_count": 162,
   "metadata": {},
   "outputs": [],
   "source": [
    "model.save('midas_cnn.model')"
   ]
  },
  {
   "cell_type": "code",
   "execution_count": 167,
   "metadata": {},
   "outputs": [
    {
     "name": "stdout",
     "output_type": "stream",
     "text": [
      "WARNING:tensorflow:Sequential models without an `input_shape` passed to the first layer cannot reload their optimizer state. As a result, your model isstarting with a freshly initialized optimizer.\n"
     ]
    }
   ],
   "source": [
    "new_model = tf.keras.models.load_model('midas_cnn.model')\n",
    "predictions = new_model.predict(x_train)\n"
   ]
  },
  {
   "cell_type": "code",
   "execution_count": 169,
   "metadata": {},
   "outputs": [
    {
     "data": {
      "text/plain": [
       "array([4.0263046e-08, 9.9996400e-01, 7.5138416e-11, 3.5979101e-05],\n",
       "      dtype=float32)"
      ]
     },
     "execution_count": 169,
     "metadata": {},
     "output_type": "execute_result"
    }
   ],
   "source": [
    "predictions[2609]"
   ]
  },
  {
   "cell_type": "code",
   "execution_count": null,
   "metadata": {},
   "outputs": [],
   "source": []
  }
 ],
 "metadata": {
  "kernelspec": {
   "display_name": "MIDAS",
   "language": "python",
   "name": "midas"
  },
  "language_info": {
   "codemirror_mode": {
    "name": "ipython",
    "version": 3
   },
   "file_extension": ".py",
   "mimetype": "text/x-python",
   "name": "python",
   "nbconvert_exporter": "python",
   "pygments_lexer": "ipython3",
   "version": "3.5.2"
  }
 },
 "nbformat": 4,
 "nbformat_minor": 2
}
